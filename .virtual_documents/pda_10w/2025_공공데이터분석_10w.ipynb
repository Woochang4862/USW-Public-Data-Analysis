





# 사용할 패키지를 import합니다
import sys
print('python', sys.version)

import numpy as np
print('numpy', np.__version__)

import pandas as pd
print('pandas', pd.__version__)

import matplotlib as mpl
print('matplotlib', mpl.__version__)

import matplotlib.pyplot as plt

import seaborn as sns
print('seaborn', sns.__version__)

# 결과 확인을 용이하게 하기 위한 코드
from IPython.core.interactiveshell import InteractiveShell
InteractiveShell.ast_node_interactivity = 'all'

# figure에 한글 폰트 사용을 위한 코드
plt.rc("font", family="Malgun Gothic") # window
#plt.rc("font", family="AppleGothic") # mac
from matplotlib.ticker import MaxNLocator








df=pd.read_csv('data/소상공인시장진흥공단_상가(상권)정보_부산_202403.csv', sep=',')
df.head(1)
df.shape





df.index # index
len(df.index)
df.columns # columns
len(df.columns)


df.iloc[0]


df['상권업종대분류명'].value_counts()
df['대지구분명'].value_counts()


df.info()





fig=plt.figure(figsize=(13,3), dpi=100)
ax1, ax2, ax3, ax4, ax5=fig.subplots(1,5)

df1=pd.DataFrame({'group1':['A']*10+['B']*7+['C']*2+['B']*3+['C']*3, 'score':range(25)})

## ax1
sns.barplot(data=df1, x='group1', y='score', errorbar=None, ax=ax1)


#### ax2~ax5 활용
sr1=df1.groupby('group1')['score'].mean()
sr1

## ax2
sns.barplot(data=sr1, ax=ax2) #seaborn 0.13.x
#sns.barplot(x=sr1.index, y=sr1.values, ax=ax2) #seaborn 0.12.x

# ## ax3
sr1.plot.bar(ax=ax3)

# ## ax4
sns.barplot(data=sr1, ax=ax4, orient='h') #seaborn 0.13.x
#sns.barplot(y=sr1.index, x=sr1.values, ax=ax4) #seaborn 0.12.x

# ## ax5
sr1.plot.barh(ax=ax5)

fig.tight_layout()





fig=plt.figure(figsize=(13,3), dpi=100)
ax1, ax2=fig.subplots(1,2)

df1=pd.DataFrame({'A':[1,2,3],'B': [4,5,6], 'C':[7,8,9], 'D':[10,11,12]}, index=['Id1','Id2','Id3'])
df1

## ax1
_=df1.plot.bar(ax=ax1)

## ax2
df2=df1.reset_index()
df2
df3=df2.melt(id_vars='index')
df3
sns.barplot(data=df3,x='index', hue='variable', y='value')

fig.tight_layout()





fig=plt.figure(figsize=(12,8), dpi=100)
ax1, ax2=fig.subplots(1,2)

## 코드작성 (ax1)


## 코드작성 (ax2)

ax1.set_xlabel("(%)")
ax2.set_xlabel("(%)")

fig.tight_layout()











df=pd.read_csv('data/소상공인시장진흥공단_상가(상권)정보_부산_202403.csv', sep=',')

print("# 1) 결측치가 전체 데이터의 수의 5% 이상인 column 제거")

df2.shape


print("# 2) column이름에 '번호' 또는 '코드'가 포함되어 있는 column 제거  (단 상가업소번호는 포함)")

dfs.shape





## 데이터 로드 & 전처리

## step1: 결측치가 전체 데이터의 수의 5% 이상인 column 제거
df=pd.read_csv('data/소상공인시장진흥공단_상가(상권)정보_부산_202403.csv', sep=',')
n1 = df.isnull().sum(axis=0).sort_values(ascending=False)
n2=(n1/len(df))*100
n3=n2.loc[n2>5]
df2 = df.drop(columns=n3.index)

## step2: column이름에 '번호' 또는 '코드'가 포함되어 있는 column 제거  (단 상가업소번호는 포함)
cols = df2.columns
cols_code = cols[(cols.str.contains("코드|번호"))&(cols!='상가업소번호')]
dfs = df2.drop(columns=cols_code)

## data 확인
dfs.head(1)
dfs.shape


print("# 1) 상호명, 시도명, 시군구명, 도로명주소 정보만 가져오기")
#=== 코드작성 ===#

df4


print("# 2) 상호명이 '프로포즈'인 상점 가져오기")
#=== 코드작성 ===#

df4


print("# 3) 시군구명이 '해운대구'이고 상호명이 '아가방'인 상점 가져오기")
#=== 코드작성 ===#

df4


print("# 4) 위도 histogram을 그리고, 위도 '35.07' 이하인 상점들이 속해있는 시군구명의 개수를 출력하시오")

fig=plt.figure(figsize=(5,3), dpi=100)
ax1=fig.subplots()

#=== 코드작성 ===#



print("# 5) 가장 동쪽에 있는 '상호명', '시도명', '경도' 가져오기")

#=== 코드작성 ===#

sr1


print("# 6) 해운대구의 상점 중, 상호명에 '태권도'가 포함되어있는 상점들의 (상호명) 정보 가져오기")

# ++++++++ contains결과를 boolean index로 사용시 nan 유의

#=== 코드작성 ===#
sr6






fig=plt.figure(figsize=(6,6), dpi=100)
axs=fig.subplots(3,3).flatten()

for ax, ii in zip(axs, range(1,10)):
    _=ax.text(0.5,0.5,ii, ha='center', va='center', fontsize=18)
    
fig.tight_layout()


fig=plt.figure(figsize=(6,6), dpi=100)
ax1=fig.add_subplot(3,3,1)
ax2=fig.add_subplot(3,3,(2,3))
ax3=fig.add_subplot(3,3,(4,8))
ax4=fig.add_subplot(3,3,(6,9))

for ax, ax_num in zip([ax1, ax2, ax3, ax4], ['ax1', 'ax2', 'ax3', 'ax4']):
    _=ax.text(0.5,0.5,ax_num, ha='center', va='center', fontsize=18)
    
fig.tight_layout()





## 데이터 로드 & 전처리

## step1: 결측치가 전체 데이터의 수의 5% 이상인 column 제거
df=pd.read_csv('data/소상공인시장진흥공단_상가(상권)정보_부산_202403.csv', sep=',')
n1 = df.isnull().sum(axis=0).sort_values(ascending=False)
n2=(n1/len(df))*100
n3=n2.loc[n2>5]
df2 = df.drop(columns=n3.index)

## step2: column이름에 '번호' 또는 '코드'가 포함되어 있는 column 제거  (단 상가업소번호는 포함)
cols = df2.columns
cols_code = cols[(cols.str.contains("코드|번호"))&(cols!='상가업소번호')]
dfs = df2.drop(columns=cols_code)

## data 확인
dfs.shape





###################################
fig=plt.figure(figsize=(13,8), dpi=100)
ax1=fig.add_subplot(3,3,1)
ax2=fig.add_subplot(3,3,2)
ax3=fig.add_subplot(3,3,3)
ax4=fig.add_subplot(3,3,(4,6))
ax5=fig.add_subplot(3,3,(7,9))

## ax1
'###################### ax1'
## 코드작성
_=ax1.tick_params(axis='x', rotation=45)
_=ax1.set_ylabel('상점수')

## ax2
'###################### ax2'
## 코드작성
_=ax2.tick_params(axis='x', rotation=45)
_=ax2.set_ylabel('상점수')

## ax3 (sns countplot 사용)
'###################### ax3'
## 코드작성
_=ax3.tick_params(axis='x', rotation=45)
_=ax3.set_ylabel('상점수')

## ax4
'###################### ax4'
## 코드작성
_=ax4.set_ylabel('중분류 가짓수')

## ax5
'###################### ax5'
## 코드작성

_=ax5.tick_params(axis='x', labelrotation=70)
_=ax5.legend(bbox_to_anchor=(1,1), loc='upper left')

fig.tight_layout()











## 데이터 로드 & 전처리

df=pd.read_csv('data/상가정보_서울부산_sampled.csv', sep=',') # 원래 데이터에서 1/3 씩 랜덤하게 샘플링함
## step1: 결측치가 전체 데이터의 수의 5% 이상인 column 제거
n1 = df.isnull().sum(axis=0).sort_values(ascending=False)
n2=(n1/len(df))*100
n3=n2.loc[n2>5]
df2 = df.drop(columns=n3.index)

## step2: column이름에 '번호' 또는 '코드'가 포함되어 있는 column 제거  (단 상가업소번호는 포함)
cols = df2.columns
cols_code = cols[(cols.str.contains("코드|번호"))&(cols!='상가업소번호')]
dfs = df2.drop(columns=cols_code)

## data 확인
dfs.head(1)
dfs.shape





fig=plt.figure(figsize=(16,10),dpi=100)
axs=fig.subplots(3,1).flatten()

axs[0].set_title('시도 별로 각 대분류 속한 상점수 (sns.countplot)')
axs[1].set_title('시도 별로 각 대분류 속한 상점수 (sns.barplot)')
axs[2].set_title('시도 별로 각 대분류 속한 상점수 (sns.pointplot)')

x_tick_order=dfs['상권업종대분류명'].unique()

# ax0
# 코드작성

# ax1
# 코드작성

# ax2
# 코드작성
fig.tight_layout()





df_busan=dfs.loc[dfs['시도명']=='부산광역시']

fig=plt.figure(figsize=(14,5),dpi=100)
ax=fig.subplots()

_=ax.set_title('부산광역시의 시군구별로 각 대분류 속한 상점수 시각화 (countplot)')
# 코드작성








df_busan=dfs.loc[dfs['시도명']=='부산광역시'] # 서울특별시

x_tick_order=dfs['상권업종대분류명'].unique()
all_gu=df_busan['시군구명'].unique()
len(all_gu)

fig=plt.figure(figsize=(18,18),dpi=100)
axs=fig.subplots(6,3).flatten()


for ax1, gu, ii in zip(axs, all_gu, range(len(all_gu))):
    # 코드작성

fig.tight_layout()

















fig=plt.figure(figsize=(12,8), dpi=100)
ax1, ax2=fig.subplots(1,2)

## 코드작성 (ax1)
n1 = df.isnull().sum(axis=0).sort_values(ascending=False)
n2=(n1/len(df))*100
n2.plot.barh(ax=ax1)
## 코드작성 끝


## 코드작성 (ax2)
n2=n2.iloc[::-1]
sns.barplot(data=n2, orient='h', ax=ax2)#seaborn 0.13.x
#sns.barplot(y=n2.index, x=n2.values, orient='h', ax=ax2)#seaborn 0.12.x


## 코드작성 끝

ax1.set_xlabel("(%)")
ax2.set_xlabel("(%)")

fig.tight_layout()





df=pd.read_csv('data/소상공인시장진흥공단_상가(상권)정보_부산_202403.csv', sep=',')

print("# 1) 결측치가 전체 데이터의 수의 5% 이상인 column 제거")
## 코드작성 ##
n1 = df.isnull().sum(axis=0).sort_values(ascending=False)
n2=(n1/len(df))*100
n3=n2.loc[n2>5]
n3

not_use_col = n3.index
df2 = df.drop(columns=not_use_col)
## 코드작성 끝 ##
df2.shape


print("# 2) column이름에 '번호' 또는 '코드'가 포함되어 있는 column 제거  (단 상가업소번호는 포함)")
## 코드작성 ##
cols = df2.columns
cols_code = cols[(cols.str.contains("코드|번호"))&(cols!='상가업소번호')]
cols_code
dfs = df2.drop(columns=cols_code)
## 코드작성 끝 ##
dfs.shape





## 데이터 로드 & 전처리

## step1: 결측치가 전체 데이터의 수의 5% 이상인 column 제거
df=pd.read_csv('data/소상공인시장진흥공단_상가(상권)정보_부산_202403.csv', sep=',')
n1 = df.isnull().sum(axis=0).sort_values(ascending=False)
n2=(n1/len(df))*100
n3=n2.loc[n2>5]
df2 = df.drop(columns=n3.index)

## step2: column이름에 '번호' 또는 '코드'가 포함되어 있는 column 제거  (단 상가업소번호는 포함)
cols = df2.columns
cols_code = cols[(cols.str.contains("코드|번호"))&(cols!='상가업소번호')]
dfs = df2.drop(columns=cols_code)

## data 확인
dfs.head(3)
dfs.shape


print("# 1) 상호명, 시도명, 시군구명, 도로명주소 정보만 가져오기")
#=== 코드작성 ===#
df4=dfs[['상호명','시도명','시군구명','도로명주소']]
#=== 코드작성 끝 ===#
df4


print("# 2) 상호명이 '프로포즈'인 상점 가져오기")
#=== 코드작성 ===#
df4=dfs.loc[(dfs['상호명']=='프로포즈')]
#=== 코드작성 끝 ===#
df4


print("# 3) 시군구명이 '해운대구'이고 상호명이 '아가방'인 상점 가져오기")
#=== 코드작성 ===#
df4=dfs.loc[(dfs['상호명']=='아가방')&(dfs['시군구명']=='해운대구')]
#=== 코드작성 끝 ===#
df4


print("# 4) 위도 histogram을 그리고, 위도 '35.07' 이하인 상점들이 속해있는 시군구명의 개수를 출력하시오")

fig=plt.figure(figsize=(5,3), dpi=100)
ax1=fig.subplots()

#=== 코드작성 ===#
dfs['위도'].plot.hist(ax=ax1, bins=20, edgecolor='k')
df4=dfs.loc[(dfs['위도']<=35.07)]
df4['시군구명'].value_counts()
#=== 코드작성 끝 ===#


print("# 5) 가장 동쪽에 있는 '상호명', '시도명', '경도' 가져오기")

#=== 코드작성 ===#
max_long=dfs['경도'].max()
max_long

sr1=dfs.loc[dfs['경도']==max_long,['상호명', '시도명', '경도']]
#=== 코드작성 끝 ===#

sr1


print("# 6) 해운대구의 상점 중, 상호명에 '태권도'가 포함되어있는 상점들의 (상호명) 정보 가져오기")

# ++++++++ contains결과를 boolean index로 사용시 nan 유의

#=== 코드작성 ===#
sr6=dfs.loc[(dfs['시군구명']=='해운대구')&(dfs['상호명'].str.contains('태권도')), '상호명']
sr6
#=== 코드작성 끝 #





## 데이터 로드 & 전처리

## step1: 결측치가 전체 데이터의 수의 5% 이상인 column 제거
df=pd.read_csv('data/소상공인시장진흥공단_상가(상권)정보_부산_202403.csv', sep=',')
n1 = df.isnull().sum(axis=0).sort_values(ascending=False)
n2=(n1/len(df))*100
n3=n2.loc[n2>5]
df2 = df.drop(columns=n3.index)

## step2: column이름에 '번호' 또는 '코드'가 포함되어 있는 column 제거  (단 상가업소번호는 포함)
cols = df2.columns
cols_code = cols[(cols.str.contains("코드|번호"))&(cols!='상가업소번호')]
dfs = df2.drop(columns=cols_code)

## data 확인
dfs.shape





###################################
fig=plt.figure(figsize=(13,8), dpi=100)
ax1=fig.add_subplot(3,3,1)
ax2=fig.add_subplot(3,3,2)
ax3=fig.add_subplot(3,3,3)
ax4=fig.add_subplot(3,3,(4,6))
ax5=fig.add_subplot(3,3,(7,9))

## ax1
'###################### ax1'
sr1=dfs['상권업종대분류명'].value_counts() # 방법 1: value_counts (sorting 됨)
#sr1
sr1=dfs.groupby(['상권업종대분류명'])['상호명'].count().sort_values(ascending=False) # 방법 2: groupby (sorting 따로 해야 함)
#sr1
sr1=dfs.pivot_table(index='상권업종대분류명', values='상호명', aggfunc='count').sort_values(by='상호명',ascending=False) # 방법 3: pivot_table (sorting 따로 해야 함)
sr1=sr1['상호명']
sr1

_=sns.barplot(sr1.head(5), ax=ax1)
_=ax1.tick_params(axis='x', rotation=45)
_=ax1.set_ylabel('상점수')
## ax2
'###################### ax2'
sr2=dfs['상권업종중분류명'].value_counts() # 방법 1: value_counts (sorting 됨)
name_dic_sr=dfs[['상권업종대분류명','상권업종중분류명']].drop_duplicates().set_index('상권업종중분류명')['상권업종대분류명']
name_dic_sr
sr2_top5=sr2.head(5)
sr2_top5.index=['{}({})'.format(n1,name_dic_sr[n1]) for n1 in sr2_top5.index]
#sr2

_=sns.barplot(sr2_top5, ax=ax2)
_=ax2.tick_params(axis='x', rotation=45)
_=ax2.set_ylabel('상점수')

## ax3 (sns countplot 사용)
'###################### ax3'
_=sns.countplot(data=dfs,
                x='상권업종소분류명',
                ax=ax3,
                order=dfs['상권업종소분류명'].value_counts().iloc[:5].index) # sorting 안 됨. sorting 원할 시 order 사용

_=ax3.tick_params(axis='x', rotation=45)
_=ax3.set_ylabel('상점수')
## ax4
'###################### ax4'
dfs.groupby('상권업종대분류명')['상권업종중분류명'].count() # 중복 제거 안됨
sr4=dfs.groupby('상권업종대분류명')['상권업종중분류명'].nunique().sort_values(ascending=False)
sr4
sr5=dfs.groupby('상권업종대분류명')['상권업종중분류명'].unique()
sr5
_=sns.barplot(sr4, ax=ax4)
_=ax4.set_ylabel('중분류 가짓수')

## ax5
'###################### ax5'
df1=dfs.groupby(['상권업종대분류명','상권업종중분류명'])['상가업소번호'].nunique().reset_index()
df1.rename(columns={'상가업소번호': '상가수'}, inplace=True)
df2=df1.sort_values(['상권업종대분류명', '상가수'], ascending=[True, False])
df3=df2.groupby('상권업종대분류명').head(3)
_=sns.barplot(data=df3, x='상권업종중분류명',y='상가수',hue='상권업종대분류명', ax=ax5)
_=ax5.tick_params(axis='x', labelrotation=70)
_=ax5.legend(bbox_to_anchor=(1,1), loc='upper left')

fig.tight_layout()





## 데이터 로드 & 전처리

df=pd.read_csv('data/상가정보_서울부산_sampled.csv', sep=',') # 원래 데이터에서 1/3 씩 랜덤하게 샘플링함
## step1: 결측치가 전체 데이터의 수의 5% 이상인 column 제거
n1 = df.isnull().sum(axis=0).sort_values(ascending=False)
n2=(n1/len(df))*100
n3=n2.loc[n2>5]
df2 = df.drop(columns=n3.index)

## step2: column이름에 '번호' 또는 '코드'가 포함되어 있는 column 제거  (단 상가업소번호는 포함)
cols = df2.columns
cols_code = cols[(cols.str.contains("코드|번호"))&(cols!='상가업소번호')]
dfs = df2.drop(columns=cols_code)

## data 확인
dfs.head(1)
dfs.shape





fig=plt.figure(figsize=(16,10),dpi=100)
axs=fig.subplots(3,1).flatten()

axs[0].set_title('시도 별로 각 대분류 속한 상점수 (sns.countplot)')
axs[1].set_title('시도 별로 각 대분류 속한 상점수 (sns.barplot)')
axs[2].set_title('시도 별로 각 대분류 속한 상점수 (sns.pointplot)')

x_tick_order=dfs['상권업종대분류명'].unique()

# ax0
_=sns.countplot(data=dfs, x='상권업종대분류명', hue='시도명', ax=axs[0], order=x_tick_order)

# ax1
sr1=dfs[['상권업종대분류명','시도명']].value_counts()
sr1.name='상점수'
df1=sr1.reset_index()
df1
_=sns.barplot(data=df1, x='상권업종대분류명', y='상점수', hue='시도명', ax=axs[1], order=x_tick_order)

# ax2
_=sns.pointplot(data=df1, x='상권업종대분류명', y='상점수', hue='시도명', ax=axs[2], order=x_tick_order)

fig.tight_layout()





df_busan=dfs.loc[dfs['시도명']=='부산광역시']

fig=plt.figure(figsize=(14,5),dpi=100)
ax=fig.subplots()

_=ax.set_title('부산광역시의 시군구별로 각 대분류 속한 상점수 시각화 (countplot)')
sns.countplot(data=df_busan, x='시군구명', hue='상권업종대분류명', ax=ax)
ax.legend(bbox_to_anchor=(1,1),loc=2)
ax.set_ylabel('상점수')








df_busan=dfs.loc[dfs['시도명']=='부산광역시'] # 서울특별시

x_tick_order=dfs['상권업종대분류명'].unique()
all_gu=df_busan['시군구명'].unique()
len(all_gu)

fig=plt.figure(figsize=(18,18),dpi=100)
axs=fig.subplots(6,3).flatten()


for ax1, gu, ii in zip(axs, all_gu, range(len(all_gu))):
    df_gu=df_busan.loc[df_busan['시군구명']==gu]
    _=sns.countplot(data=df_gu, x='상권업종대분류명', ax=ax1, order=x_tick_order)
    
    _=ax1.tick_params(axis='x', labelrotation=45)
    _=ax1.set_title(gu)

fig.tight_layout()
