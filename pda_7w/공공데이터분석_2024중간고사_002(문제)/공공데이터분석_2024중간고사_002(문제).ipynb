{
 "cells": [
  {
   "cell_type": "markdown",
   "metadata": {
    "colab_type": "text",
    "id": "B1Y4qFSKJZWa"
   },
   "source": [
    "* #################################################\n",
    "* 2024 공공데이터분석 중간고사 002분반 2024.04.26 (금)\n",
    "* #################################################"
   ]
  },
  {
   "cell_type": "code",
   "execution_count": 1,
   "metadata": {},
   "outputs": [],
   "source": [
    "##################################################\n",
    "############### 문제 풀기 전 주의사항 ##############\n",
    "##################################################\n",
    "\n",
    "# 시험시간 내 인터넷 사용 금지, 시험문제 다운로드, 업로드 시에만 가능\n",
    "# (시험 중, 핸드폰이나 인터넷 사용을 포함한 부정행위 적발시 0점 처리).\n",
    "\n",
    "# 캔버스에서 1) ipynb 시험파일, 2) html 시험파일, 3) 데이터를 다운로드.\n",
    " \n",
    "# html 파일의 실행결과를 참고하여, ipynb 파일의 #=== 코드작성 ===# 부분에 코드를 작성\n",
    "# (ipynb파일의 실행결과는 코드 작성과정에서 사라질 수 있음).\n",
    "\n",
    "# 맨 위의 import 셀을 우선 실행.\n",
    "# 랜덤 값을 입력으로하는 문제는 주어진 실행결과와 다른 실행결과가 나올 수 있음.\n",
    "\n",
    "# 코드는 다른 값을 갖는 데이터에서도 동작을 해야만 정답으로 인정\n",
    "# (주어진 데이터 값 자체를 가지고 결과를 만들면 오답 처리)\n",
    "\n",
    "# 시험 도중 anaconda prompt (검은창) 지우지 말것.\n",
    "# 시험 중간중간에 파일 저장 (crtl+s) 할 것.\n",
    "\n",
    "# 시험이 끝나면 실행결과를 모두 확인하고 작성한 ipynb 파일 저장 후,\n",
    "# 작성한 ipynb을 < 캔버스 --> 과제 --> 중간고사> 에 업로드.\n",
    "# (시스템 문제로 캔버스제출이 아닌 이메일로 제출하는 경우 ipynb 시험 파일은 파일명 수정하여 제출:\n",
    "#    --> 이름_학번_2024중간고사_공공데이터분반00x.ipynb)"
   ]
  },
  {
   "cell_type": "code",
   "execution_count": 26,
   "metadata": {},
   "outputs": [
    {
     "name": "stdout",
     "output_type": "stream",
     "text": [
      "python 3.13.1 (main, Dec  3 2024, 17:59:52) [Clang 16.0.0 (clang-1600.0.26.4)]\n",
      "numpy 2.2.5\n",
      "pandas 2.2.3\n",
      "matplotlib 3.10.1\n",
      "seaborn 0.13.2\n"
     ]
    }
   ],
   "source": [
    "# 사용할 패키지를 import합니다\n",
    "import sys\n",
    "print('python', sys.version)\n",
    "\n",
    "import numpy as np\n",
    "print('numpy', np.__version__)\n",
    "\n",
    "import pandas as pd\n",
    "print('pandas', pd.__version__)\n",
    "\n",
    "import matplotlib as mpl\n",
    "print('matplotlib', mpl.__version__)\n",
    "\n",
    "import matplotlib.pyplot as plt\n",
    "\n",
    "import seaborn as sns\n",
    "print('seaborn', sns.__version__)\n",
    "\n",
    "# 결과 확인을 용이하게 하기 위한 코드\n",
    "from IPython.core.interactiveshell import InteractiveShell\n",
    "InteractiveShell.ast_node_interactivity = 'all'\n",
    "\n",
    "# figure에 한글 폰트 사용을 위한 코드\n",
    "# plt.rc(\"font\", family=\"Malgun Gothic\") # window\n",
    "plt.rc(\"font\", family=\"AppleGothic\") # mac\n",
    "from matplotlib.ticker import MaxNLocator"
   ]
  },
  {
   "cell_type": "markdown",
   "metadata": {},
   "source": [
    "# 문제1\n",
    "* sr1의 주어진 각 값을 아래 조건에 맞게 변환한 sr1a를 출력하시오\n",
    "* 1) 정수형은 그대로\n",
    "* 2) 문자형은 쉼표제거 후 1) 숫자로만 구성시 정수로 변환 2) 숫자로만 구성 아닐 시 'X'\n",
    "* (단 sr1의 값은 정수형과 문자형 밖에 없음)"
   ]
  },
  {
   "cell_type": "code",
   "execution_count": 5,
   "metadata": {},
   "outputs": [
    {
     "data": {
      "text/plain": [
       "0      1000\n",
       "1     2,000\n",
       "2      3500\n",
       "3    4,500k\n",
       "4     5,500\n",
       "dtype: object"
      ]
     },
     "execution_count": 5,
     "metadata": {},
     "output_type": "execute_result"
    },
    {
     "data": {
      "text/plain": [
       "0    1000\n",
       "1    2000\n",
       "2    3500\n",
       "3       X\n",
       "4    5500\n",
       "dtype: object"
      ]
     },
     "execution_count": 5,
     "metadata": {},
     "output_type": "execute_result"
    }
   ],
   "source": [
    "sr1=pd.Series([1000, '2,000', 3500, '4,500k','5,500'])\n",
    "sr1\n",
    "\n",
    "def func_prob1(x):\n",
    "    ## 코드 작성 ##\n",
    "    if type(x) == int: return x\n",
    "    x = x.replace(',','')\n",
    "    if x.isdigit():\n",
    "        return int(x)\n",
    "    else:\n",
    "        return 'X'\n",
    "\n",
    "sr1a=sr1.map(func_prob1)\n",
    "sr1a"
   ]
  },
  {
   "cell_type": "markdown",
   "metadata": {},
   "source": [
    "# 문제2\n",
    "* 주어진 df2에 'A' column을 제거한 df2a를 출력하시오\n",
    "* df2의 column은 랜덤하게 생성이 됨\n",
    "* column에 'A'가 있는 경우는 'A'를 제거하고, 'A'가 없는 경우는 경우는 에러가 나지 않고 원래 dataframe이 그대로 나오게 함\n",
    "* (힌트: drop 함수 사용)"
   ]
  },
  {
   "cell_type": "code",
   "execution_count": 98,
   "metadata": {},
   "outputs": [
    {
     "data": {
      "text/html": [
       "<div>\n",
       "<style scoped>\n",
       "    .dataframe tbody tr th:only-of-type {\n",
       "        vertical-align: middle;\n",
       "    }\n",
       "\n",
       "    .dataframe tbody tr th {\n",
       "        vertical-align: top;\n",
       "    }\n",
       "\n",
       "    .dataframe thead th {\n",
       "        text-align: right;\n",
       "    }\n",
       "</style>\n",
       "<table border=\"1\" class=\"dataframe\">\n",
       "  <thead>\n",
       "    <tr style=\"text-align: right;\">\n",
       "      <th></th>\n",
       "      <th>I</th>\n",
       "      <th>G</th>\n",
       "      <th>J</th>\n",
       "      <th>E</th>\n",
       "      <th>C</th>\n",
       "    </tr>\n",
       "  </thead>\n",
       "  <tbody>\n",
       "    <tr>\n",
       "      <th>0</th>\n",
       "      <td>0</td>\n",
       "      <td>1</td>\n",
       "      <td>2</td>\n",
       "      <td>3</td>\n",
       "      <td>4</td>\n",
       "    </tr>\n",
       "    <tr>\n",
       "      <th>1</th>\n",
       "      <td>5</td>\n",
       "      <td>6</td>\n",
       "      <td>7</td>\n",
       "      <td>8</td>\n",
       "      <td>9</td>\n",
       "    </tr>\n",
       "    <tr>\n",
       "      <th>2</th>\n",
       "      <td>10</td>\n",
       "      <td>11</td>\n",
       "      <td>12</td>\n",
       "      <td>13</td>\n",
       "      <td>14</td>\n",
       "    </tr>\n",
       "    <tr>\n",
       "      <th>3</th>\n",
       "      <td>15</td>\n",
       "      <td>16</td>\n",
       "      <td>17</td>\n",
       "      <td>18</td>\n",
       "      <td>19</td>\n",
       "    </tr>\n",
       "  </tbody>\n",
       "</table>\n",
       "</div>"
      ],
      "text/plain": [
       "    I   G   J   E   C\n",
       "0   0   1   2   3   4\n",
       "1   5   6   7   8   9\n",
       "2  10  11  12  13  14\n",
       "3  15  16  17  18  19"
      ]
     },
     "execution_count": 98,
     "metadata": {},
     "output_type": "execute_result"
    },
    {
     "data": {
      "text/html": [
       "<div>\n",
       "<style scoped>\n",
       "    .dataframe tbody tr th:only-of-type {\n",
       "        vertical-align: middle;\n",
       "    }\n",
       "\n",
       "    .dataframe tbody tr th {\n",
       "        vertical-align: top;\n",
       "    }\n",
       "\n",
       "    .dataframe thead th {\n",
       "        text-align: right;\n",
       "    }\n",
       "</style>\n",
       "<table border=\"1\" class=\"dataframe\">\n",
       "  <thead>\n",
       "    <tr style=\"text-align: right;\">\n",
       "      <th></th>\n",
       "      <th>I</th>\n",
       "      <th>G</th>\n",
       "      <th>J</th>\n",
       "      <th>E</th>\n",
       "      <th>C</th>\n",
       "    </tr>\n",
       "  </thead>\n",
       "  <tbody>\n",
       "    <tr>\n",
       "      <th>0</th>\n",
       "      <td>0</td>\n",
       "      <td>1</td>\n",
       "      <td>2</td>\n",
       "      <td>3</td>\n",
       "      <td>4</td>\n",
       "    </tr>\n",
       "    <tr>\n",
       "      <th>1</th>\n",
       "      <td>5</td>\n",
       "      <td>6</td>\n",
       "      <td>7</td>\n",
       "      <td>8</td>\n",
       "      <td>9</td>\n",
       "    </tr>\n",
       "    <tr>\n",
       "      <th>2</th>\n",
       "      <td>10</td>\n",
       "      <td>11</td>\n",
       "      <td>12</td>\n",
       "      <td>13</td>\n",
       "      <td>14</td>\n",
       "    </tr>\n",
       "    <tr>\n",
       "      <th>3</th>\n",
       "      <td>15</td>\n",
       "      <td>16</td>\n",
       "      <td>17</td>\n",
       "      <td>18</td>\n",
       "      <td>19</td>\n",
       "    </tr>\n",
       "  </tbody>\n",
       "</table>\n",
       "</div>"
      ],
      "text/plain": [
       "    I   G   J   E   C\n",
       "0   0   1   2   3   4\n",
       "1   5   6   7   8   9\n",
       "2  10  11  12  13  14\n",
       "3  15  16  17  18  19"
      ]
     },
     "execution_count": 98,
     "metadata": {},
     "output_type": "execute_result"
    }
   ],
   "source": [
    "df2=pd.DataFrame(np.arange(20).reshape(4,5),\n",
    "                 columns=np.random.choice(list('ABCDEFGHIJK'), size=5, replace=False))\n",
    "df2\n",
    "\n",
    "## 코드 작성 ##\n",
    "df2a = df2.drop(columns='A', errors='ignore')\n",
    "df2a"
   ]
  },
  {
   "cell_type": "code",
   "execution_count": 97,
   "metadata": {},
   "outputs": [
    {
     "data": {
      "text/html": [
       "<div>\n",
       "<style scoped>\n",
       "    .dataframe tbody tr th:only-of-type {\n",
       "        vertical-align: middle;\n",
       "    }\n",
       "\n",
       "    .dataframe tbody tr th {\n",
       "        vertical-align: top;\n",
       "    }\n",
       "\n",
       "    .dataframe thead th {\n",
       "        text-align: right;\n",
       "    }\n",
       "</style>\n",
       "<table border=\"1\" class=\"dataframe\">\n",
       "  <thead>\n",
       "    <tr style=\"text-align: right;\">\n",
       "      <th></th>\n",
       "      <th>D</th>\n",
       "      <th>B</th>\n",
       "      <th>A</th>\n",
       "      <th>I</th>\n",
       "      <th>J</th>\n",
       "    </tr>\n",
       "  </thead>\n",
       "  <tbody>\n",
       "    <tr>\n",
       "      <th>0</th>\n",
       "      <td>0</td>\n",
       "      <td>1</td>\n",
       "      <td>2</td>\n",
       "      <td>3</td>\n",
       "      <td>4</td>\n",
       "    </tr>\n",
       "    <tr>\n",
       "      <th>1</th>\n",
       "      <td>5</td>\n",
       "      <td>6</td>\n",
       "      <td>7</td>\n",
       "      <td>8</td>\n",
       "      <td>9</td>\n",
       "    </tr>\n",
       "    <tr>\n",
       "      <th>2</th>\n",
       "      <td>10</td>\n",
       "      <td>11</td>\n",
       "      <td>12</td>\n",
       "      <td>13</td>\n",
       "      <td>14</td>\n",
       "    </tr>\n",
       "    <tr>\n",
       "      <th>3</th>\n",
       "      <td>15</td>\n",
       "      <td>16</td>\n",
       "      <td>17</td>\n",
       "      <td>18</td>\n",
       "      <td>19</td>\n",
       "    </tr>\n",
       "  </tbody>\n",
       "</table>\n",
       "</div>"
      ],
      "text/plain": [
       "    D   B   A   I   J\n",
       "0   0   1   2   3   4\n",
       "1   5   6   7   8   9\n",
       "2  10  11  12  13  14\n",
       "3  15  16  17  18  19"
      ]
     },
     "execution_count": 97,
     "metadata": {},
     "output_type": "execute_result"
    },
    {
     "data": {
      "text/html": [
       "<div>\n",
       "<style scoped>\n",
       "    .dataframe tbody tr th:only-of-type {\n",
       "        vertical-align: middle;\n",
       "    }\n",
       "\n",
       "    .dataframe tbody tr th {\n",
       "        vertical-align: top;\n",
       "    }\n",
       "\n",
       "    .dataframe thead th {\n",
       "        text-align: right;\n",
       "    }\n",
       "</style>\n",
       "<table border=\"1\" class=\"dataframe\">\n",
       "  <thead>\n",
       "    <tr style=\"text-align: right;\">\n",
       "      <th></th>\n",
       "      <th>D</th>\n",
       "      <th>B</th>\n",
       "      <th>I</th>\n",
       "      <th>J</th>\n",
       "    </tr>\n",
       "  </thead>\n",
       "  <tbody>\n",
       "    <tr>\n",
       "      <th>0</th>\n",
       "      <td>0</td>\n",
       "      <td>1</td>\n",
       "      <td>3</td>\n",
       "      <td>4</td>\n",
       "    </tr>\n",
       "    <tr>\n",
       "      <th>1</th>\n",
       "      <td>5</td>\n",
       "      <td>6</td>\n",
       "      <td>8</td>\n",
       "      <td>9</td>\n",
       "    </tr>\n",
       "    <tr>\n",
       "      <th>2</th>\n",
       "      <td>10</td>\n",
       "      <td>11</td>\n",
       "      <td>13</td>\n",
       "      <td>14</td>\n",
       "    </tr>\n",
       "    <tr>\n",
       "      <th>3</th>\n",
       "      <td>15</td>\n",
       "      <td>16</td>\n",
       "      <td>18</td>\n",
       "      <td>19</td>\n",
       "    </tr>\n",
       "  </tbody>\n",
       "</table>\n",
       "</div>"
      ],
      "text/plain": [
       "    D   B   I   J\n",
       "0   0   1   3   4\n",
       "1   5   6   8   9\n",
       "2  10  11  13  14\n",
       "3  15  16  18  19"
      ]
     },
     "execution_count": 97,
     "metadata": {},
     "output_type": "execute_result"
    }
   ],
   "source": [
    "## column에 A 가 있는 경우"
   ]
  },
  {
   "cell_type": "code",
   "execution_count": 96,
   "metadata": {},
   "outputs": [
    {
     "data": {
      "text/html": [
       "<div>\n",
       "<style scoped>\n",
       "    .dataframe tbody tr th:only-of-type {\n",
       "        vertical-align: middle;\n",
       "    }\n",
       "\n",
       "    .dataframe tbody tr th {\n",
       "        vertical-align: top;\n",
       "    }\n",
       "\n",
       "    .dataframe thead th {\n",
       "        text-align: right;\n",
       "    }\n",
       "</style>\n",
       "<table border=\"1\" class=\"dataframe\">\n",
       "  <thead>\n",
       "    <tr style=\"text-align: right;\">\n",
       "      <th></th>\n",
       "      <th>F</th>\n",
       "      <th>G</th>\n",
       "      <th>J</th>\n",
       "      <th>C</th>\n",
       "      <th>D</th>\n",
       "    </tr>\n",
       "  </thead>\n",
       "  <tbody>\n",
       "    <tr>\n",
       "      <th>0</th>\n",
       "      <td>0</td>\n",
       "      <td>1</td>\n",
       "      <td>2</td>\n",
       "      <td>3</td>\n",
       "      <td>4</td>\n",
       "    </tr>\n",
       "    <tr>\n",
       "      <th>1</th>\n",
       "      <td>5</td>\n",
       "      <td>6</td>\n",
       "      <td>7</td>\n",
       "      <td>8</td>\n",
       "      <td>9</td>\n",
       "    </tr>\n",
       "    <tr>\n",
       "      <th>2</th>\n",
       "      <td>10</td>\n",
       "      <td>11</td>\n",
       "      <td>12</td>\n",
       "      <td>13</td>\n",
       "      <td>14</td>\n",
       "    </tr>\n",
       "    <tr>\n",
       "      <th>3</th>\n",
       "      <td>15</td>\n",
       "      <td>16</td>\n",
       "      <td>17</td>\n",
       "      <td>18</td>\n",
       "      <td>19</td>\n",
       "    </tr>\n",
       "  </tbody>\n",
       "</table>\n",
       "</div>"
      ],
      "text/plain": [
       "    F   G   J   C   D\n",
       "0   0   1   2   3   4\n",
       "1   5   6   7   8   9\n",
       "2  10  11  12  13  14\n",
       "3  15  16  17  18  19"
      ]
     },
     "execution_count": 96,
     "metadata": {},
     "output_type": "execute_result"
    },
    {
     "data": {
      "text/html": [
       "<div>\n",
       "<style scoped>\n",
       "    .dataframe tbody tr th:only-of-type {\n",
       "        vertical-align: middle;\n",
       "    }\n",
       "\n",
       "    .dataframe tbody tr th {\n",
       "        vertical-align: top;\n",
       "    }\n",
       "\n",
       "    .dataframe thead th {\n",
       "        text-align: right;\n",
       "    }\n",
       "</style>\n",
       "<table border=\"1\" class=\"dataframe\">\n",
       "  <thead>\n",
       "    <tr style=\"text-align: right;\">\n",
       "      <th></th>\n",
       "      <th>F</th>\n",
       "      <th>G</th>\n",
       "      <th>J</th>\n",
       "      <th>C</th>\n",
       "      <th>D</th>\n",
       "    </tr>\n",
       "  </thead>\n",
       "  <tbody>\n",
       "    <tr>\n",
       "      <th>0</th>\n",
       "      <td>0</td>\n",
       "      <td>1</td>\n",
       "      <td>2</td>\n",
       "      <td>3</td>\n",
       "      <td>4</td>\n",
       "    </tr>\n",
       "    <tr>\n",
       "      <th>1</th>\n",
       "      <td>5</td>\n",
       "      <td>6</td>\n",
       "      <td>7</td>\n",
       "      <td>8</td>\n",
       "      <td>9</td>\n",
       "    </tr>\n",
       "    <tr>\n",
       "      <th>2</th>\n",
       "      <td>10</td>\n",
       "      <td>11</td>\n",
       "      <td>12</td>\n",
       "      <td>13</td>\n",
       "      <td>14</td>\n",
       "    </tr>\n",
       "    <tr>\n",
       "      <th>3</th>\n",
       "      <td>15</td>\n",
       "      <td>16</td>\n",
       "      <td>17</td>\n",
       "      <td>18</td>\n",
       "      <td>19</td>\n",
       "    </tr>\n",
       "  </tbody>\n",
       "</table>\n",
       "</div>"
      ],
      "text/plain": [
       "    F   G   J   C   D\n",
       "0   0   1   2   3   4\n",
       "1   5   6   7   8   9\n",
       "2  10  11  12  13  14\n",
       "3  15  16  17  18  19"
      ]
     },
     "execution_count": 96,
     "metadata": {},
     "output_type": "execute_result"
    }
   ],
   "source": [
    "## column에 A 가 없는 경우"
   ]
  },
  {
   "cell_type": "markdown",
   "metadata": {},
   "source": [
    "# => 문제를 위한 전처리 코드\n",
    "* ########################################\n",
    "* df_last => 전처리 => df_prep \n",
    "* 아래 문제들에서 df_prep 사용됨\n",
    "* ########################################"
   ]
  },
  {
   "cell_type": "code",
   "execution_count": 18,
   "metadata": {},
   "outputs": [
    {
     "data": {
      "text/html": [
       "<div>\n",
       "<style scoped>\n",
       "    .dataframe tbody tr th:only-of-type {\n",
       "        vertical-align: middle;\n",
       "    }\n",
       "\n",
       "    .dataframe tbody tr th {\n",
       "        vertical-align: top;\n",
       "    }\n",
       "\n",
       "    .dataframe thead th {\n",
       "        text-align: right;\n",
       "    }\n",
       "</style>\n",
       "<table border=\"1\" class=\"dataframe\">\n",
       "  <thead>\n",
       "    <tr style=\"text-align: right;\">\n",
       "      <th></th>\n",
       "      <th>지역명</th>\n",
       "      <th>연도</th>\n",
       "      <th>월</th>\n",
       "      <th>평당분양가격</th>\n",
       "      <th>전용면적</th>\n",
       "    </tr>\n",
       "  </thead>\n",
       "  <tbody>\n",
       "    <tr>\n",
       "      <th>0</th>\n",
       "      <td>서울</td>\n",
       "      <td>2015</td>\n",
       "      <td>10</td>\n",
       "      <td>19275.3</td>\n",
       "      <td>전체</td>\n",
       "    </tr>\n",
       "    <tr>\n",
       "      <th>1</th>\n",
       "      <td>서울</td>\n",
       "      <td>2015</td>\n",
       "      <td>10</td>\n",
       "      <td>18651.6</td>\n",
       "      <td>~60</td>\n",
       "    </tr>\n",
       "    <tr>\n",
       "      <th>2</th>\n",
       "      <td>서울</td>\n",
       "      <td>2015</td>\n",
       "      <td>10</td>\n",
       "      <td>19410.6</td>\n",
       "      <td>60~85</td>\n",
       "    </tr>\n",
       "    <tr>\n",
       "      <th>3</th>\n",
       "      <td>서울</td>\n",
       "      <td>2015</td>\n",
       "      <td>10</td>\n",
       "      <td>18879.3</td>\n",
       "      <td>85~102</td>\n",
       "    </tr>\n",
       "    <tr>\n",
       "      <th>4</th>\n",
       "      <td>서울</td>\n",
       "      <td>2015</td>\n",
       "      <td>10</td>\n",
       "      <td>19400.7</td>\n",
       "      <td>102~</td>\n",
       "    </tr>\n",
       "  </tbody>\n",
       "</table>\n",
       "</div>"
      ],
      "text/plain": [
       "  지역명    연도   월   평당분양가격    전용면적\n",
       "0  서울  2015  10  19275.3      전체\n",
       "1  서울  2015  10  18651.6     ~60\n",
       "2  서울  2015  10  19410.6   60~85\n",
       "3  서울  2015  10  18879.3  85~102\n",
       "4  서울  2015  10  19400.7    102~"
      ]
     },
     "execution_count": 18,
     "metadata": {},
     "output_type": "execute_result"
    }
   ],
   "source": [
    "df_last = pd.read_csv(\"data/전국평균 분양가격 (2015년10월~2023년6월).csv\", encoding=\"cp949\") #default: sep=','\n",
    "\n",
    "### 1) '분양가격(제곱미터)'column: nan(결측치) 제거\n",
    "df_prep=df_last.loc[df_last['분양가격(제곱미터)'].notnull()]\n",
    "\n",
    "### 2) '분양가격(제곱미터)'column: 숫자로 구성된 문자 -> float형, 숫자가 아닌 문자 -> nan으로 변경 후 행 제거\n",
    "df_prep=df_prep.copy()\n",
    "df_prep['분양가격(제곱미터)']=pd.to_numeric(df_prep['분양가격(제곱미터)'], errors='coerce')\n",
    "df_prep=df_prep.loc[df_prep['분양가격(제곱미터)'].notnull()]\n",
    "\n",
    "### 3) 평당분양가격 column 추가\n",
    "df_prep[\"평당분양가격\"]=df_prep['분양가격(제곱미터)'] * 3.3\n",
    "\n",
    "### 4) 전용면적 column 추가\n",
    "def area_prep(x):\n",
    "    x2=x.replace(\"모든면적\",\"전체\").replace(\"전용면적\", \"\").replace(\"제곱미터\", \"\").replace(\"60이하\", \"~60\")\n",
    "    x3=x2.replace(\"60이하\", \"~60\").replace(\"초과\", \"~\").replace(\"이하\", \"\").replace(\" \", \"\")\n",
    "    return x3\n",
    "\n",
    "df_prep[\"전용면적\"] = df_prep[\"규모구분\"].map(area_prep)\n",
    "\n",
    "### 5) 필요없는 column 제거\n",
    "df_prep=df_prep.drop(columns=['규모구분','분양가격(제곱미터)'], errors='ignore')\n",
    "\n",
    "df_prep.head()\n"
   ]
  },
  {
   "cell_type": "markdown",
   "metadata": {},
   "source": [
    "# 문제3\n",
    "* 주어진 df3의 지역별 평당분양가격 최소값을 담은 dataframe df3a를 구하시오\n",
    "* (주의: datatype이 dataframe)"
   ]
  },
  {
   "cell_type": "code",
   "execution_count": 99,
   "metadata": {},
   "outputs": [
    {
     "data": {
      "text/html": [
       "<div>\n",
       "<style scoped>\n",
       "    .dataframe tbody tr th:only-of-type {\n",
       "        vertical-align: middle;\n",
       "    }\n",
       "\n",
       "    .dataframe tbody tr th {\n",
       "        vertical-align: top;\n",
       "    }\n",
       "\n",
       "    .dataframe thead th {\n",
       "        text-align: right;\n",
       "    }\n",
       "</style>\n",
       "<table border=\"1\" class=\"dataframe\">\n",
       "  <thead>\n",
       "    <tr style=\"text-align: right;\">\n",
       "      <th></th>\n",
       "      <th>평당분양가격</th>\n",
       "    </tr>\n",
       "    <tr>\n",
       "      <th>지역명</th>\n",
       "      <th></th>\n",
       "    </tr>\n",
       "  </thead>\n",
       "  <tbody>\n",
       "    <tr>\n",
       "      <th>대구</th>\n",
       "      <td>8259.9</td>\n",
       "    </tr>\n",
       "    <tr>\n",
       "      <th>대전</th>\n",
       "      <td>8002.5</td>\n",
       "    </tr>\n",
       "    <tr>\n",
       "      <th>부산</th>\n",
       "      <td>9669.0</td>\n",
       "    </tr>\n",
       "    <tr>\n",
       "      <th>서울</th>\n",
       "      <td>16701.3</td>\n",
       "    </tr>\n",
       "  </tbody>\n",
       "</table>\n",
       "</div>"
      ],
      "text/plain": [
       "      평당분양가격\n",
       "지역명         \n",
       "대구    8259.9\n",
       "대전    8002.5\n",
       "부산    9669.0\n",
       "서울   16701.3"
      ]
     },
     "execution_count": 99,
     "metadata": {},
     "output_type": "execute_result"
    }
   ],
   "source": [
    "df3=df_prep.loc[df_prep['지역명'].isin(['서울','대전','대구','부산'])].copy()\n",
    "\n",
    "## 코드 작성 ##\n",
    "\n",
    "#df3a=pd.DataFrame(df3.groupby('지역명')['평당분양가격'].min())\n",
    "df3a = df3.pivot_table(index='지역명', values='평당분양가격', aggfunc='min')\n",
    "df3a"
   ]
  },
  {
   "cell_type": "markdown",
   "metadata": {},
   "source": [
    "# 문제4\n",
    "* 주어진 df4의 \"전용면적\" 별로, 가장 높은 평당분양가격과 두번째로 높은 평당분양가격의 차이를 갖는 series sr4를 구하시오\n",
    "* 단, sr4은 순서가 값이 작은 것부터 큰 값 순서로 sorting되게 하시오"
   ]
  },
  {
   "cell_type": "code",
   "execution_count": 24,
   "metadata": {},
   "outputs": [
    {
     "data": {
      "text/plain": [
       "전용면적\n",
       "85~102       0.0\n",
       "~60          0.0\n",
       "전체         102.3\n",
       "60~85      181.5\n",
       "102~      3488.1\n",
       "Name: 평당분양가격, dtype: float64"
      ]
     },
     "execution_count": 24,
     "metadata": {},
     "output_type": "execute_result"
    }
   ],
   "source": [
    "df4=df_prep.copy()\n",
    "\n",
    "## 코드 작성 ##\n",
    "def f(sr):\n",
    "    sr = sr.sort_values(ascending=False)\n",
    "    return sr.iloc[0] - sr.iloc[1]\n",
    "    \n",
    "sr4 = df4.groupby(\"전용면적\")[\"평당분양가격\"].apply(f).sort_values()\n",
    "sr4"
   ]
  },
  {
   "cell_type": "markdown",
   "metadata": {},
   "source": [
    "# 문제5\n",
    "* 주어진 df5에서 \"지역\"별로, 평당분양가격 평균과 중앙값을 구하고, 그 두 값을 다중 그래프로 그리시오\n",
    "* pandas plot을 사용하시오\n",
    "* 단, 다중bar의 순서는 왼쪽부터 평균-중앙값 순서로 하시오\n",
    "* 레전드에 들어가는 label이 결과 그림처럼 되게 하시오\n",
    "* (검은색 평행선은 결과확인용으로 무시해도 됨)"
   ]
  },
  {
   "cell_type": "code",
   "execution_count": 29,
   "metadata": {},
   "outputs": [
    {
     "data": {
      "text/plain": [
       "<Axes: xlabel='지역명'>"
      ]
     },
     "execution_count": 29,
     "metadata": {},
     "output_type": "execute_result"
    },
    {
     "data": {
      "text/plain": [
       "<matplotlib.lines.Line2D at 0x11aa65a90>"
      ]
     },
     "execution_count": 29,
     "metadata": {},
     "output_type": "execute_result"
    },
    {
     "data": {
      "text/plain": [
       "<matplotlib.lines.Line2D at 0x11aad9950>"
      ]
     },
     "execution_count": 29,
     "metadata": {},
     "output_type": "execute_result"
    },
    {
     "data": {
      "image/png": "[encoded data removed]",
      "text/plain": [
       "<Figure size 1000x300 with 1 Axes>"
      ]
     },
     "metadata": {},
     "output_type": "display_data"
    }
   ],
   "source": [
    "fig=plt.figure(figsize=(10,3))\n",
    "ax1 = fig.subplots()\n",
    "\n",
    "df5=df_prep.copy()\n",
    "## 코드작성 ##\n",
    "def f(sr):\n",
    "    mean = sr.mean()\n",
    "    median = sr.median()\n",
    "    return pd.Series([mean, median], index = ['ave.', 'med.'])\n",
    "df5.groupby('지역명')['평당분양가격'].apply(f).unstack().plot.bar(ax=ax1, rot=0)\n",
    "\n",
    "ax1.axhline(y=10000, color='k')\n",
    "ax1.axhline(y=20000, color='k')"
   ]
  },
  {
   "cell_type": "markdown",
   "metadata": {},
   "source": [
    "# 문제6\n",
    "* 주어진 df6을 가지고, 지역별 전용면적별 평당분양가격의 \"최소값\"을 bar그래프로 그리시오\n",
    "* pandas plot을 활용하여 ax1에 그리시오\n",
    "* (단, 다중그래프의 순서를 ['\\~60', '60\\~85', '85\\~102','102\\~', '전체']로 하시오)\n",
    "* (검은색 평행선은 결과확인용으로 무시해도 됨)\n",
    "\n",
    "# 문제7\n",
    "* 주어진 df7을 가지고 전용면적별 연도별 평당분양가격의 \"최대값\"을 bar그래프로 그리시오\n",
    "* seaborn 활용하여 ax2에 그리시오 (errorbar=None)\n",
    "* (검은색 평행선은 결과확인용으로 무시해도 됨)"
   ]
  },
  {
   "cell_type": "code",
   "execution_count": 106,
   "metadata": {},
   "outputs": [
    {
     "data": {
      "text/plain": [
       "<Axes: xlabel='지역명'>"
      ]
     },
     "execution_count": 106,
     "metadata": {},
     "output_type": "execute_result"
    },
    {
     "data": {
      "text/plain": [
       "<Axes: xlabel='연도', ylabel='평당분양가격'>"
      ]
     },
     "execution_count": 106,
     "metadata": {},
     "output_type": "execute_result"
    },
    {
     "data": {
      "image/png": "[encoded data removed]",
      "text/plain": [
       "<Figure size 1000x400 with 2 Axes>"
      ]
     },
     "metadata": {},
     "output_type": "display_data"
    }
   ],
   "source": [
    "fig=plt.figure(figsize=(10, 4))\n",
    "ax1, ax2=fig.subplots(2,1)\n",
    " \n",
    "####### ax1\n",
    "df6=df_prep.loc[df_prep['지역명'].isin(['서울','대전','대구'])].copy()\n",
    "## 코드작성\n",
    "# pivot_table 이용방법\n",
    "df6=df6.pivot_table(index='지역명', columns='전용면적', values='평당분양가격', aggfunc='max')\n",
    "df6[['~60', '60~85', '85~102','102~', '전체']].plot.bar(ax=ax1, rot=0)\n",
    "# df_conc = pd.DataFrame()\n",
    "# for n1 in ['~60', '60~85', '85~102','102~', '전체']:\n",
    "#     sr = df6.loc[df6['전용면적']==n1].groupby('지역명')['평당분양가격'].min()\n",
    "#     sr.name = n1\n",
    "#     df_conc = pd.concat([df_conc, sr], axis=1)\n",
    "# df_conc.plot.bar(ax=ax1, rot=0)\n",
    "####### ax2\n",
    "df7=df_prep.loc[df_prep['연도'].isin([2016, 2018, 2020, 2022])].copy()\n",
    "## 코드작성\n",
    "sns.barplot(data=df7, x='연도', y='평당분양가격', hue='전용면적', estimator='max', errorbar=None, ax=ax2)\n",
    "\n",
    "_=ax1.axhline(y=10000, color='k')\n",
    "_=ax1.legend(bbox_to_anchor=(1,1), loc='upper left')\n",
    "_=ax2.axhline(y=40000, color='k')\n",
    "_=ax2.legend(bbox_to_anchor=(1,1), loc='upper left')\n",
    "fig.tight_layout()"
   ]
  },
  {
   "cell_type": "markdown",
   "metadata": {},
   "source": [
    "# 문제8\n",
    "* 주어진 df8에서 \"최대값\"과 \"중앙값\"이 가장많이 차이 나는 연도 top 3의 평당분양가격을 boxplot으로 그리시오\n",
    "* pandas plot을 이용하여 그리시오"
   ]
  },
  {
   "cell_type": "code",
   "execution_count": 115,
   "metadata": {},
   "outputs": [
    {
     "data": {
      "text/plain": [
       "<Axes: >"
      ]
     },
     "execution_count": 115,
     "metadata": {},
     "output_type": "execute_result"
    },
    {
     "data": {
      "image/png": "[encoded data removed]",
      "text/plain": [
       "<Figure size 1000x300 with 1 Axes>"
      ]
     },
     "metadata": {},
     "output_type": "display_data"
    }
   ],
   "source": [
    "fig=plt.figure(figsize=(10,3))\n",
    "ax1 = fig.subplots()\n",
    "\n",
    "df8=df_prep.copy()\n",
    "\n",
    "## 코드작성\n",
    "# def f(sr):\n",
    "#     return abs(sr.max() - sr.median())\n",
    "# selected_year = df8.groupby('연도')['평당분양가격'].apply(f).sort_values(ascending=False).index[:3]\n",
    "# df8.loc[df8['연도'].isin(selected_year)].groupby('연도')['평당분양가격'].apply(pd.DataFrame)[selected_year].plot.box(ax=ax1)\n",
    "def get_diff(sr):\n",
    "    return abs(sr.max()-sr.median())\n",
    "df_pivot = df8.pivot_table(index=['지역명', '월', '전용면적'], columns=\"연도\", values=\"평당분양가격\")\n",
    "diff = df8.groupby('연도')['평당분양가격'].apply(get_diff).sort_values(ascending=False)\n",
    "df_pivot[diff.index[:3]].plot.box(ax=ax1)"
   ]
  },
  {
   "cell_type": "markdown",
   "metadata": {},
   "source": [
    "# 문제9\n",
    "* 주어진 df9를 가지고 ax1에 barplot을 그렸다. (errorbar=('ci',40))\n",
    "* 그 아래에는 ax1과 같은 errorbar를 ax2에 직접 추가하는 코드를 작성했다.\n",
    "* 그러나 결과가 다르게 나왔다. seaborn의 (errorbar=('ci',40))를 제대로 구현할수 있도록 코드를 수정하시요\n",
    "* 단, for ii in range(200): (<== 이 코드는 수정하지 마시오)"
   ]
  },
  {
   "cell_type": "code",
   "execution_count": 118,
   "metadata": {},
   "outputs": [
    {
     "data": {
      "text/plain": [
       "<Axes: xlabel='연도', ylabel='평당분양가격'>"
      ]
     },
     "execution_count": 118,
     "metadata": {},
     "output_type": "execute_result"
    },
    {
     "data": {
      "text/plain": [
       "<Axes: xlabel='연도', ylabel='평당분양가격'>"
      ]
     },
     "execution_count": 118,
     "metadata": {},
     "output_type": "execute_result"
    },
    {
     "data": {
      "text/html": [
       "<div>\n",
       "<style scoped>\n",
       "    .dataframe tbody tr th:only-of-type {\n",
       "        vertical-align: middle;\n",
       "    }\n",
       "\n",
       "    .dataframe tbody tr th {\n",
       "        vertical-align: top;\n",
       "    }\n",
       "\n",
       "    .dataframe thead th {\n",
       "        text-align: right;\n",
       "    }\n",
       "</style>\n",
       "<table border=\"1\" class=\"dataframe\">\n",
       "  <thead>\n",
       "    <tr style=\"text-align: right;\">\n",
       "      <th></th>\n",
       "      <th>up</th>\n",
       "      <th>lw</th>\n",
       "    </tr>\n",
       "    <tr>\n",
       "      <th>연도</th>\n",
       "      <th></th>\n",
       "      <th></th>\n",
       "    </tr>\n",
       "  </thead>\n",
       "  <tbody>\n",
       "    <tr>\n",
       "      <th>2016</th>\n",
       "      <td>9830.270732</td>\n",
       "      <td>9557.826220</td>\n",
       "    </tr>\n",
       "    <tr>\n",
       "      <th>2017</th>\n",
       "      <td>10499.022769</td>\n",
       "      <td>10262.279077</td>\n",
       "    </tr>\n",
       "    <tr>\n",
       "      <th>2018</th>\n",
       "      <td>11096.984331</td>\n",
       "      <td>10841.821436</td>\n",
       "    </tr>\n",
       "    <tr>\n",
       "      <th>2019</th>\n",
       "      <td>12398.139803</td>\n",
       "      <td>11996.538487</td>\n",
       "    </tr>\n",
       "    <tr>\n",
       "      <th>2020</th>\n",
       "      <td>13264.346259</td>\n",
       "      <td>12855.142517</td>\n",
       "    </tr>\n",
       "  </tbody>\n",
       "</table>\n",
       "</div>"
      ],
      "text/plain": [
       "                up            lw\n",
       "연도                              \n",
       "2016   9830.270732   9557.826220\n",
       "2017  10499.022769  10262.279077\n",
       "2018  11096.984331  10841.821436\n",
       "2019  12398.139803  11996.538487\n",
       "2020  13264.346259  12855.142517"
      ]
     },
     "execution_count": 118,
     "metadata": {},
     "output_type": "execute_result"
    },
    {
     "data": {
      "image/png": "[encoded data removed]",
      "text/plain": [
       "<Figure size 600x400 with 2 Axes>"
      ]
     },
     "metadata": {},
     "output_type": "display_data"
    }
   ],
   "source": [
    "fig=plt.figure(figsize=(6, 4))\n",
    "ax1, ax2=fig.subplots(2,1)\n",
    "\n",
    "df9=df_prep.loc[df_prep['연도'].isin([2016, 2017, 2018, 2019, 2020])].copy()\n",
    "\n",
    "sns.barplot(data=df9,\n",
    "            x='연도', # group\n",
    "            y=\"평당분양가격\",\n",
    "            errorbar=('ci',40), # bootstraping confidence interval: 5~95 \n",
    "            ax=ax1)\n",
    "\n",
    "sns.barplot(data=df9,\n",
    "            x='연도', # group\n",
    "            y=\"평당분양가격\",\n",
    "            errorbar=None,\n",
    "            ax=ax2)\n",
    "\n",
    "######### 이 아래부터 수정 가능 ##########\n",
    "def get_errorbar_ci(sr1):\n",
    "    bs_list=[]\n",
    "    for ii in range(200): # <== 이 코드는 수정하지 마시오\n",
    "        sr2=sr1.sample(len(sr1), replace=True)\n",
    "        bs_list.append(sr2.mean())\n",
    "    sr_sorted=pd.Series(bs_list).sort_values(ascending=False)\n",
    "    upper=sr_sorted.iloc[29]\n",
    "    lower=sr_sorted.iloc[-30]\n",
    "    return pd.Series([upper, lower], index=['up','lw'])\n",
    "\n",
    "ci_res=df9.groupby('연도')['평당분양가격'].apply(get_errorbar_ci)\n",
    "ci_res=ci_res.unstack(1)\n",
    "ci_res\n",
    "\n",
    "for x_pos, ind in zip(ax2.get_xticks(), ci_res.index):\n",
    "    up_pos=ci_res.loc[ind, 'up']\n",
    "    lw_pos=ci_res.loc[ind, 'lw']\n",
    "    \n",
    "    _=ax2.plot([x_pos,x_pos],[lw_pos, up_pos], color='k', linewidth=3)\n",
    "    \n",
    "fig.tight_layout()"
   ]
  },
  {
   "cell_type": "markdown",
   "metadata": {},
   "source": [
    "# 문제10\n",
    "* dataframe df10a를 적당한 format으로 변경한후 df10b와 연결하여 df10d를 만드시오"
   ]
  },
  {
   "cell_type": "code",
   "execution_count": 68,
   "metadata": {},
   "outputs": [
    {
     "data": {
      "text/html": [
       "<div>\n",
       "<style scoped>\n",
       "    .dataframe tbody tr th:only-of-type {\n",
       "        vertical-align: middle;\n",
       "    }\n",
       "\n",
       "    .dataframe tbody tr th {\n",
       "        vertical-align: top;\n",
       "    }\n",
       "\n",
       "    .dataframe thead th {\n",
       "        text-align: right;\n",
       "    }\n",
       "</style>\n",
       "<table border=\"1\" class=\"dataframe\">\n",
       "  <thead>\n",
       "    <tr style=\"text-align: right;\">\n",
       "      <th></th>\n",
       "      <th>name</th>\n",
       "      <th>age</th>\n",
       "      <th>mat</th>\n",
       "      <th>eng</th>\n",
       "      <th>kor</th>\n",
       "    </tr>\n",
       "  </thead>\n",
       "  <tbody>\n",
       "    <tr>\n",
       "      <th>0</th>\n",
       "      <td>A</td>\n",
       "      <td>30</td>\n",
       "      <td>130</td>\n",
       "      <td>330</td>\n",
       "      <td>530</td>\n",
       "    </tr>\n",
       "    <tr>\n",
       "      <th>1</th>\n",
       "      <td>B</td>\n",
       "      <td>40</td>\n",
       "      <td>150</td>\n",
       "      <td>350</td>\n",
       "      <td>550</td>\n",
       "    </tr>\n",
       "    <tr>\n",
       "      <th>2</th>\n",
       "      <td>C</td>\n",
       "      <td>50</td>\n",
       "      <td>140</td>\n",
       "      <td>340</td>\n",
       "      <td>540</td>\n",
       "    </tr>\n",
       "  </tbody>\n",
       "</table>\n",
       "</div>"
      ],
      "text/plain": [
       "  name  age  mat  eng  kor\n",
       "0    A   30  130  330  530\n",
       "1    B   40  150  350  550\n",
       "2    C   50  140  340  540"
      ]
     },
     "execution_count": 68,
     "metadata": {},
     "output_type": "execute_result"
    },
    {
     "data": {
      "text/html": [
       "<div>\n",
       "<style scoped>\n",
       "    .dataframe tbody tr th:only-of-type {\n",
       "        vertical-align: middle;\n",
       "    }\n",
       "\n",
       "    .dataframe tbody tr th {\n",
       "        vertical-align: top;\n",
       "    }\n",
       "\n",
       "    .dataframe thead th {\n",
       "        text-align: right;\n",
       "    }\n",
       "</style>\n",
       "<table border=\"1\" class=\"dataframe\">\n",
       "  <thead>\n",
       "    <tr style=\"text-align: right;\">\n",
       "      <th></th>\n",
       "      <th>age</th>\n",
       "      <th>name</th>\n",
       "      <th>subj</th>\n",
       "      <th>score</th>\n",
       "    </tr>\n",
       "  </thead>\n",
       "  <tbody>\n",
       "    <tr>\n",
       "      <th>0</th>\n",
       "      <td>10</td>\n",
       "      <td>D</td>\n",
       "      <td>eng</td>\n",
       "      <td>310</td>\n",
       "    </tr>\n",
       "    <tr>\n",
       "      <th>1</th>\n",
       "      <td>20</td>\n",
       "      <td>E</td>\n",
       "      <td>eng</td>\n",
       "      <td>390</td>\n",
       "    </tr>\n",
       "    <tr>\n",
       "      <th>2</th>\n",
       "      <td>30</td>\n",
       "      <td>F</td>\n",
       "      <td>eng</td>\n",
       "      <td>400</td>\n",
       "    </tr>\n",
       "  </tbody>\n",
       "</table>\n",
       "</div>"
      ],
      "text/plain": [
       "   age name subj  score\n",
       "0   10    D  eng    310\n",
       "1   20    E  eng    390\n",
       "2   30    F  eng    400"
      ]
     },
     "execution_count": 68,
     "metadata": {},
     "output_type": "execute_result"
    },
    {
     "name": "stdout",
     "output_type": "stream",
     "text": [
      "### df10d\n"
     ]
    },
    {
     "data": {
      "text/html": [
       "<div>\n",
       "<style scoped>\n",
       "    .dataframe tbody tr th:only-of-type {\n",
       "        vertical-align: middle;\n",
       "    }\n",
       "\n",
       "    .dataframe tbody tr th {\n",
       "        vertical-align: top;\n",
       "    }\n",
       "\n",
       "    .dataframe thead th {\n",
       "        text-align: right;\n",
       "    }\n",
       "</style>\n",
       "<table border=\"1\" class=\"dataframe\">\n",
       "  <thead>\n",
       "    <tr style=\"text-align: right;\">\n",
       "      <th></th>\n",
       "      <th>name</th>\n",
       "      <th>age</th>\n",
       "      <th>subj</th>\n",
       "      <th>score</th>\n",
       "    </tr>\n",
       "  </thead>\n",
       "  <tbody>\n",
       "    <tr>\n",
       "      <th>0</th>\n",
       "      <td>A</td>\n",
       "      <td>30</td>\n",
       "      <td>eng</td>\n",
       "      <td>330</td>\n",
       "    </tr>\n",
       "    <tr>\n",
       "      <th>1</th>\n",
       "      <td>B</td>\n",
       "      <td>40</td>\n",
       "      <td>eng</td>\n",
       "      <td>350</td>\n",
       "    </tr>\n",
       "    <tr>\n",
       "      <th>2</th>\n",
       "      <td>C</td>\n",
       "      <td>50</td>\n",
       "      <td>eng</td>\n",
       "      <td>340</td>\n",
       "    </tr>\n",
       "    <tr>\n",
       "      <th>0</th>\n",
       "      <td>D</td>\n",
       "      <td>10</td>\n",
       "      <td>eng</td>\n",
       "      <td>310</td>\n",
       "    </tr>\n",
       "    <tr>\n",
       "      <th>1</th>\n",
       "      <td>E</td>\n",
       "      <td>20</td>\n",
       "      <td>eng</td>\n",
       "      <td>390</td>\n",
       "    </tr>\n",
       "    <tr>\n",
       "      <th>2</th>\n",
       "      <td>F</td>\n",
       "      <td>30</td>\n",
       "      <td>eng</td>\n",
       "      <td>400</td>\n",
       "    </tr>\n",
       "  </tbody>\n",
       "</table>\n",
       "</div>"
      ],
      "text/plain": [
       "  name  age subj  score\n",
       "0    A   30  eng    330\n",
       "1    B   40  eng    350\n",
       "2    C   50  eng    340\n",
       "0    D   10  eng    310\n",
       "1    E   20  eng    390\n",
       "2    F   30  eng    400"
      ]
     },
     "execution_count": 68,
     "metadata": {},
     "output_type": "execute_result"
    }
   ],
   "source": [
    "df10a = pd.DataFrame({\"name\": ['A','B','C'],\n",
    "                      \"age\": [30,40,50],\n",
    "                      \"mat\": [130, 150,140],\n",
    "                      \"eng\": [330, 350,340],\n",
    "                      \"kor\": [530, 550,540]})\n",
    "\n",
    "df10b = pd.DataFrame({\"age\": [10,20,30],\n",
    "                      \"name\": ['D','E','F'],\n",
    "                      \"subj\": ['eng','eng','eng'],\n",
    "                      \"score\": [310, 390,400]})\n",
    "\n",
    "df10a\n",
    "df10b\n",
    "\n",
    "## 코드작성\n",
    "df10a_melted = df10a.melt(id_vars=[\"name\",\"age\"],value_vars=[\"eng\"],value_name=\"score\", var_name=\"subj\")\n",
    "df10d = pd.concat([df10a_melted,df10b], axis=0)\n",
    "print(\"### df10d\")\n",
    "df10d"
   ]
  },
  {
   "cell_type": "markdown",
   "metadata": {},
   "source": [
    "# => 문제를 위한 전처리 코드\n",
    "* ########################################\n",
    "* df_last, df_first => 전처리 => df_all\n",
    "* 아래 문제들에서 df_all 사용됨\n",
    "* ########################################"
   ]
  },
  {
   "cell_type": "code",
   "execution_count": 69,
   "metadata": {},
   "outputs": [
    {
     "data": {
      "text/html": [
       "<div>\n",
       "<style scoped>\n",
       "    .dataframe tbody tr th:only-of-type {\n",
       "        vertical-align: middle;\n",
       "    }\n",
       "\n",
       "    .dataframe tbody tr th {\n",
       "        vertical-align: top;\n",
       "    }\n",
       "\n",
       "    .dataframe thead th {\n",
       "        text-align: right;\n",
       "    }\n",
       "</style>\n",
       "<table border=\"1\" class=\"dataframe\">\n",
       "  <thead>\n",
       "    <tr style=\"text-align: right;\">\n",
       "      <th></th>\n",
       "      <th>지역명</th>\n",
       "      <th>연도</th>\n",
       "      <th>월</th>\n",
       "      <th>평당분양가격</th>\n",
       "    </tr>\n",
       "  </thead>\n",
       "  <tbody>\n",
       "    <tr>\n",
       "      <th>0</th>\n",
       "      <td>서울</td>\n",
       "      <td>2015</td>\n",
       "      <td>10</td>\n",
       "      <td>19275.3</td>\n",
       "    </tr>\n",
       "    <tr>\n",
       "      <th>1</th>\n",
       "      <td>인천</td>\n",
       "      <td>2015</td>\n",
       "      <td>10</td>\n",
       "      <td>10437.9</td>\n",
       "    </tr>\n",
       "    <tr>\n",
       "      <th>2</th>\n",
       "      <td>경기</td>\n",
       "      <td>2015</td>\n",
       "      <td>10</td>\n",
       "      <td>10355.4</td>\n",
       "    </tr>\n",
       "    <tr>\n",
       "      <th>3</th>\n",
       "      <td>부산</td>\n",
       "      <td>2015</td>\n",
       "      <td>10</td>\n",
       "      <td>10269.6</td>\n",
       "    </tr>\n",
       "    <tr>\n",
       "      <th>4</th>\n",
       "      <td>대구</td>\n",
       "      <td>2015</td>\n",
       "      <td>10</td>\n",
       "      <td>8850.6</td>\n",
       "    </tr>\n",
       "    <tr>\n",
       "      <th>...</th>\n",
       "      <td>...</td>\n",
       "      <td>...</td>\n",
       "      <td>...</td>\n",
       "      <td>...</td>\n",
       "    </tr>\n",
       "    <tr>\n",
       "      <th>1918</th>\n",
       "      <td>전북</td>\n",
       "      <td>2015</td>\n",
       "      <td>8</td>\n",
       "      <td>6580.0</td>\n",
       "    </tr>\n",
       "    <tr>\n",
       "      <th>1919</th>\n",
       "      <td>전남</td>\n",
       "      <td>2015</td>\n",
       "      <td>8</td>\n",
       "      <td>6289.0</td>\n",
       "    </tr>\n",
       "    <tr>\n",
       "      <th>1920</th>\n",
       "      <td>경북</td>\n",
       "      <td>2015</td>\n",
       "      <td>8</td>\n",
       "      <td>7037.0</td>\n",
       "    </tr>\n",
       "    <tr>\n",
       "      <th>1921</th>\n",
       "      <td>경남</td>\n",
       "      <td>2015</td>\n",
       "      <td>8</td>\n",
       "      <td>7665.0</td>\n",
       "    </tr>\n",
       "    <tr>\n",
       "      <th>1922</th>\n",
       "      <td>제주</td>\n",
       "      <td>2015</td>\n",
       "      <td>8</td>\n",
       "      <td>7343.0</td>\n",
       "    </tr>\n",
       "  </tbody>\n",
       "</table>\n",
       "<p>1923 rows × 4 columns</p>\n",
       "</div>"
      ],
      "text/plain": [
       "     지역명    연도   월   평당분양가격\n",
       "0     서울  2015  10  19275.3\n",
       "1     인천  2015  10  10437.9\n",
       "2     경기  2015  10  10355.4\n",
       "3     부산  2015  10  10269.6\n",
       "4     대구  2015  10   8850.6\n",
       "...   ..   ...  ..      ...\n",
       "1918  전북  2015   8   6580.0\n",
       "1919  전남  2015   8   6289.0\n",
       "1920  경북  2015   8   7037.0\n",
       "1921  경남  2015   8   7665.0\n",
       "1922  제주  2015   8   7343.0\n",
       "\n",
       "[1923 rows x 4 columns]"
      ]
     },
     "execution_count": 69,
     "metadata": {},
     "output_type": "execute_result"
    }
   ],
   "source": [
    "###########################################\n",
    "############ df_last (df_prep1) ############\n",
    "###########################################\n",
    "df_last = pd.read_csv(\"data/전국평균 분양가격 (2015년10월~2023년6월).csv\", encoding=\"cp949\") #default: sep=','\n",
    "\n",
    "### 1) '분양가격(제곱미터)'column: nan(결측치) 제거\n",
    "df_prep1=df_last.loc[df_last['분양가격(제곱미터)'].notnull()]\n",
    "\n",
    "### 2) '분양가격(제곱미터)'column: 숫자로 구성된 문자 -> float형, 숫자가 아닌 문자 -> nan으로 변경 후 행 제거\n",
    "df_prep1=df_prep1.copy()\n",
    "df_prep1['분양가격(제곱미터)']=pd.to_numeric(df_prep1['분양가격(제곱미터)'], errors='coerce')\n",
    "df_prep1=df_prep1.loc[df_prep1['분양가격(제곱미터)'].notnull()]\n",
    "\n",
    "### 3) 평당분양가격 column 추가\n",
    "df_prep1[\"평당분양가격\"]=df_prep1['분양가격(제곱미터)'] * 3.3\n",
    "\n",
    "### 4) 전용면적 column 추가\n",
    "def area_prep(x):\n",
    "    x2=x.replace(\"모든면적\",\"전체\").replace(\"전용면적\", \"\").replace(\"제곱미터\", \"\").replace(\"60이하\", \"~60\")\n",
    "    x3=x2.replace(\"60이하\", \"~60\").replace(\"초과\", \"~\").replace(\"이하\", \"\").replace(\" \", \"\")\n",
    "    return x3\n",
    "\n",
    "df_prep1[\"전용면적\"] = df_prep1[\"규모구분\"].map(area_prep)\n",
    "\n",
    "### 5) 필요없는 column 제거\n",
    "df_prep1=df_prep1.drop(columns=['규모구분','분양가격(제곱미터)'], errors='ignore')\n",
    "\n",
    "### 6) 전용면적 '전체' 선택 후, 전용면적 drop\n",
    "df_prep1=df_prep1.loc[df_prep1['전용면적']=='전체'] # df_first가 전용면적 별 데이터가 없음으로 전체만 선택\n",
    "df_prep1=df_prep1.drop(columns='전용면적', errors='ignore')\n",
    "\n",
    "############################################\n",
    "############ df_first (df_prep12) ###########\n",
    "############################################\n",
    "\n",
    "df_first = pd.read_csv(\"data/전국평균 분양가격 (2013년12월~2015년8월).csv\", encoding=\"cp949\")\n",
    "df_first_melt = df_first.melt(id_vars=\"지역\", var_name=\"기간\", value_name=\"평당분양가격\")\n",
    "df_first_melt.rename(columns={'지역':\"지역명\"}, inplace=True)\n",
    "\n",
    "df_first_melt['연도']=df_first_melt['기간'].str.split('년').str.get(0).astype(int)\n",
    "df_first_melt['월']=df_first_melt['기간'].str.split('년').str.get(1)\n",
    "df_first_melt['월']=df_first_melt['월'].str.replace('월','').astype(int)\n",
    "df_prep12=df_first_melt.drop(columns='기간')\n",
    "\n",
    "###############################################\n",
    "#################### df_all ###################\n",
    "###############################################\n",
    "\n",
    "## concat\n",
    "df_all=pd.concat((df_prep1, df_prep12), axis=0)\n",
    "## reset_index\n",
    "df_all=df_all.reset_index(drop=True)\n",
    "\n",
    "df_all"
   ]
  },
  {
   "cell_type": "markdown",
   "metadata": {},
   "source": [
    "# 문제11\n",
    "* 주어진 df11을 가지고 연도별 평당분양가격을 boxplot으로 그리시오\n",
    "* seaborn 사용\n",
    "* 단, 각 연도별 평당분양가격 최대값이 높은 순서로 sorting 하여 나타내시오"
   ]
  },
  {
   "cell_type": "code",
   "execution_count": 70,
   "metadata": {},
   "outputs": [
    {
     "data": {
      "text/html": [
       "<div>\n",
       "<style scoped>\n",
       "    .dataframe tbody tr th:only-of-type {\n",
       "        vertical-align: middle;\n",
       "    }\n",
       "\n",
       "    .dataframe tbody tr th {\n",
       "        vertical-align: top;\n",
       "    }\n",
       "\n",
       "    .dataframe thead th {\n",
       "        text-align: right;\n",
       "    }\n",
       "</style>\n",
       "<table border=\"1\" class=\"dataframe\">\n",
       "  <thead>\n",
       "    <tr style=\"text-align: right;\">\n",
       "      <th></th>\n",
       "      <th>지역명</th>\n",
       "      <th>연도</th>\n",
       "      <th>월</th>\n",
       "      <th>평당분양가격</th>\n",
       "    </tr>\n",
       "  </thead>\n",
       "  <tbody>\n",
       "    <tr>\n",
       "      <th>0</th>\n",
       "      <td>서울</td>\n",
       "      <td>2015</td>\n",
       "      <td>10</td>\n",
       "      <td>19275.3</td>\n",
       "    </tr>\n",
       "    <tr>\n",
       "      <th>1</th>\n",
       "      <td>인천</td>\n",
       "      <td>2015</td>\n",
       "      <td>10</td>\n",
       "      <td>10437.9</td>\n",
       "    </tr>\n",
       "    <tr>\n",
       "      <th>2</th>\n",
       "      <td>경기</td>\n",
       "      <td>2015</td>\n",
       "      <td>10</td>\n",
       "      <td>10355.4</td>\n",
       "    </tr>\n",
       "    <tr>\n",
       "      <th>3</th>\n",
       "      <td>부산</td>\n",
       "      <td>2015</td>\n",
       "      <td>10</td>\n",
       "      <td>10269.6</td>\n",
       "    </tr>\n",
       "    <tr>\n",
       "      <th>4</th>\n",
       "      <td>대구</td>\n",
       "      <td>2015</td>\n",
       "      <td>10</td>\n",
       "      <td>8850.6</td>\n",
       "    </tr>\n",
       "    <tr>\n",
       "      <th>...</th>\n",
       "      <td>...</td>\n",
       "      <td>...</td>\n",
       "      <td>...</td>\n",
       "      <td>...</td>\n",
       "    </tr>\n",
       "    <tr>\n",
       "      <th>1918</th>\n",
       "      <td>전북</td>\n",
       "      <td>2015</td>\n",
       "      <td>8</td>\n",
       "      <td>6580.0</td>\n",
       "    </tr>\n",
       "    <tr>\n",
       "      <th>1919</th>\n",
       "      <td>전남</td>\n",
       "      <td>2015</td>\n",
       "      <td>8</td>\n",
       "      <td>6289.0</td>\n",
       "    </tr>\n",
       "    <tr>\n",
       "      <th>1920</th>\n",
       "      <td>경북</td>\n",
       "      <td>2015</td>\n",
       "      <td>8</td>\n",
       "      <td>7037.0</td>\n",
       "    </tr>\n",
       "    <tr>\n",
       "      <th>1921</th>\n",
       "      <td>경남</td>\n",
       "      <td>2015</td>\n",
       "      <td>8</td>\n",
       "      <td>7665.0</td>\n",
       "    </tr>\n",
       "    <tr>\n",
       "      <th>1922</th>\n",
       "      <td>제주</td>\n",
       "      <td>2015</td>\n",
       "      <td>8</td>\n",
       "      <td>7343.0</td>\n",
       "    </tr>\n",
       "  </tbody>\n",
       "</table>\n",
       "<p>1923 rows × 4 columns</p>\n",
       "</div>"
      ],
      "text/plain": [
       "     지역명    연도   월   평당분양가격\n",
       "0     서울  2015  10  19275.3\n",
       "1     인천  2015  10  10437.9\n",
       "2     경기  2015  10  10355.4\n",
       "3     부산  2015  10  10269.6\n",
       "4     대구  2015  10   8850.6\n",
       "...   ..   ...  ..      ...\n",
       "1918  전북  2015   8   6580.0\n",
       "1919  전남  2015   8   6289.0\n",
       "1920  경북  2015   8   7037.0\n",
       "1921  경남  2015   8   7665.0\n",
       "1922  제주  2015   8   7343.0\n",
       "\n",
       "[1923 rows x 4 columns]"
      ]
     },
     "execution_count": 70,
     "metadata": {},
     "output_type": "execute_result"
    },
    {
     "data": {
      "text/plain": [
       "<Axes: xlabel='연도', ylabel='평당분양가격'>"
      ]
     },
     "execution_count": 70,
     "metadata": {},
     "output_type": "execute_result"
    },
    {
     "data": {
      "image/png": "[encoded data removed]",
      "text/plain": [
       "<Figure size 1000x300 with 1 Axes>"
      ]
     },
     "metadata": {},
     "output_type": "display_data"
    }
   ],
   "source": [
    "fig=plt.figure(figsize=(10,3))\n",
    "ax1 = fig.subplots()\n",
    "\n",
    "df11=df_all.copy()\n",
    "df11\n",
    "## 코드작성\n",
    "sns.boxplot(\n",
    "    data=df11, \n",
    "    x='연도', \n",
    "    y='평당분양가격', \n",
    "    order=df11.groupby('연도')['평당분양가격'].max().sort_values(ascending=False).index, \n",
    "    ax=ax1\n",
    ")"
   ]
  },
  {
   "cell_type": "markdown",
   "metadata": {},
   "source": [
    "# 문제12\n",
    "* 주어진 df12에서 집값이 가장 많이 변하지 않은 지역의 연월 그래프를 결과 그림과 같이 그리시오\n",
    "* 집값이 많이 변하는 정도의 기준: mx1 - mn1\n",
    "* mx1: df12의 연월 평당분양가격 중 최대값\n",
    "* mn1: df12의 연월 평당분양가격 중 최소값\n",
    "* 집값이 가장 많이 변하지 않은 지역으로 결정된 지역을 제목에 넣으시오"
   ]
  },
  {
   "cell_type": "code",
   "execution_count": 83,
   "metadata": {},
   "outputs": [
    {
     "data": {
      "text/plain": [
       "<Axes: xlabel='연도', ylabel='평당분양가격'>"
      ]
     },
     "execution_count": 83,
     "metadata": {},
     "output_type": "execute_result"
    },
    {
     "data": {
      "text/plain": [
       "Text(0.5, 1.0, '충북')"
      ]
     },
     "execution_count": 83,
     "metadata": {},
     "output_type": "execute_result"
    },
    {
     "data": {
      "image/png": "[encoded data removed]",
      "text/plain": [
       "<Figure size 1200x300 with 1 Axes>"
      ]
     },
     "metadata": {},
     "output_type": "display_data"
    }
   ],
   "source": [
    "fig=plt.figure(figsize=(12,3), dpi=100)\n",
    "ax1=fig.subplots()\n",
    "\n",
    "df12=df_all.copy()\n",
    "\n",
    "## 코드작성\n",
    "def f(sr):\n",
    "    return sr.max() - sr.min()\n",
    "region = df12.groupby('지역명')['평당분양가격'].apply(f).sort_values().index[0]\n",
    "sns.barplot(\n",
    "    data=df12.loc[df12['지역명']==region],\n",
    "    x='연도',\n",
    "    y='평당분양가격',\n",
    "    hue='월'\n",
    ")\n",
    "ax1.set_title(region)\n",
    "_=ax1.legend(bbox_to_anchor=(1,1), loc='upper left')"
   ]
  },
  {
   "cell_type": "code",
   "execution_count": null,
   "metadata": {},
   "outputs": [],
   "source": []
  }
 ],
 "metadata": {
  "colab": {
   "collapsed_sections": [
    "9PNqs0q4JZU_",
    "kdeItDwvJZVE",
    "O0PFKeVrJZVG",
    "AReZC_8JJZVO",
    "y6kOVY3CJZVQ",
    "qhS9AqdkJZVT",
    "R5QxvdFJJZVc",
    "D6DhLjbeJZVq",
    "3FVFKFZyJZWF",
    "L-lOJGCAJZWK",
    "B1Y4qFSKJZWa",
    "Fnc_Oj1zJZWo",
    "1D9an7yBJZW-",
    "pbwSpueSJZXF",
    "vVBBZGaZJZXO",
    "HfEF2oEBJZXe"
   ],
   "name": "01-apt-price.ipynb",
   "provenance": []
  },
  "kernelspec": {
   "display_name": "Python 3 (ipykernel)",
   "language": "python",
   "name": "python3"
  },
  "language_info": {
   "codemirror_mode": {
    "name": "ipython",
    "version": 3
   },
   "file_extension": ".py",
   "mimetype": "text/x-python",
   "name": "python",
   "nbconvert_exporter": "python",
   "pygments_lexer": "ipython3",
   "version": "3.13.1"
  },
  "toc": {
   "base_numbering": 1,
   "nav_menu": {},
   "number_sections": true,
   "sideBar": true,
   "skip_h1_title": false,
   "title_cell": "Table of Contents",
   "title_sidebar": "Contents",
   "toc_cell": false,
   "toc_position": {
    "height": "calc(100% - 180px)",
    "left": "10px",
    "top": "150px",
    "width": "328.047px"
   },
   "toc_section_display": true,
   "toc_window_display": true
  },
  "varInspector": {
   "cols": {
    "lenName": 16,
    "lenType": 16,
    "lenVar": 40
   },
   "kernels_config": {
    "python": {
     "delete_cmd_postfix": "",
     "delete_cmd_prefix": "del ",
     "library": "var_list.py",
     "varRefreshCmd": "print(var_dic_list())"
    },
    "r": {
     "delete_cmd_postfix": ") ",
     "delete_cmd_prefix": "rm(",
     "library": "var_list.r",
     "varRefreshCmd": "cat(var_dic_list()) "
    }
   },
   "position": {
    "height": "144.716px",
    "left": "1138.08px",
    "right": "20px",
    "top": "117.997px",
    "width": "350px"
   },
   "types_to_exclude": [
    "module",
    "function",
    "builtin_function_or_method",
    "instance",
    "_Feature"
   ],
   "window_display": false
  }
 },
 "nbformat": 4,
 "nbformat_minor": 4
}
